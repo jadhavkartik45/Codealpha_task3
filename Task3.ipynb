{
 "cells": [
  {
   "cell_type": "code",
   "execution_count": 3,
   "id": "6842fc1a-4f82-483a-a03c-bae94c7f04cc",
   "metadata": {},
   "outputs": [],
   "source": [
    "# Import necessary libraries\n",
    "import pandas as pd\n",
    "import numpy as np\n",
    "import matplotlib.pyplot as plt\n",
    "import seaborn as sns\n",
    "from sklearn.model_selection import train_test_split\n",
    "from sklearn.linear_model import LinearRegression\n",
    "from sklearn.preprocessing import LabelEncoder, StandardScaler\n",
    "from sklearn.metrics import mean_squared_error, r2_score\n",
    "\n"
   ]
  },
  {
   "cell_type": "code",
   "execution_count": 5,
   "id": "4ffbb109-7d44-487f-9e3d-b517683fca8b",
   "metadata": {},
   "outputs": [],
   "source": [
    "data = pd.read_csv('sales_data.csv')"
   ]
  },
  {
   "cell_type": "code",
   "execution_count": 7,
   "id": "0161b5d1-6013-4bcf-aa23-52b9b04f3ddc",
   "metadata": {},
   "outputs": [
    {
     "name": "stdout",
     "output_type": "stream",
     "text": [
      "     Unnamed: 0     TV  Radio  Newspaper  Sales\n",
      "0             1  230.1   37.8       69.2   22.1\n",
      "1             2   44.5   39.3       45.1   10.4\n",
      "2             3   17.2   45.9       69.3    9.3\n",
      "3             4  151.5   41.3       58.5   18.5\n",
      "4             5  180.8   10.8       58.4   12.9\n",
      "..          ...    ...    ...        ...    ...\n",
      "195         196   38.2    3.7       13.8    7.6\n",
      "196         197   94.2    4.9        8.1    9.7\n",
      "197         198  177.0    9.3        6.4   12.8\n",
      "198         199  283.6   42.0       66.2   25.5\n",
      "199         200  232.1    8.6        8.7   13.4\n",
      "\n",
      "[200 rows x 5 columns]\n"
     ]
    }
   ],
   "source": [
    "print(data)"
   ]
  },
  {
   "cell_type": "code",
   "execution_count": 9,
   "id": "8bd8874e-c3cd-45ca-af46-e8e962f2b0d8",
   "metadata": {},
   "outputs": [
    {
     "name": "stdout",
     "output_type": "stream",
     "text": [
      "Index(['Unnamed: 0', 'TV', 'Radio', 'Newspaper', 'Sales'], dtype='object')\n"
     ]
    }
   ],
   "source": [
    "print(data.columns)"
   ]
  },
  {
   "cell_type": "code",
   "execution_count": 13,
   "id": "bef3755c-ea1e-4337-a165-86d8320cf05a",
   "metadata": {},
   "outputs": [
    {
     "name": "stdout",
     "output_type": "stream",
     "text": [
      "<bound method NDFrame.head of      Unnamed: 0     TV  Radio  Newspaper  Sales\n",
      "0             1  230.1   37.8       69.2   22.1\n",
      "1             2   44.5   39.3       45.1   10.4\n",
      "2             3   17.2   45.9       69.3    9.3\n",
      "3             4  151.5   41.3       58.5   18.5\n",
      "4             5  180.8   10.8       58.4   12.9\n",
      "..          ...    ...    ...        ...    ...\n",
      "195         196   38.2    3.7       13.8    7.6\n",
      "196         197   94.2    4.9        8.1    9.7\n",
      "197         198  177.0    9.3        6.4   12.8\n",
      "198         199  283.6   42.0       66.2   25.5\n",
      "199         200  232.1    8.6        8.7   13.4\n",
      "\n",
      "[200 rows x 5 columns]>\n"
     ]
    }
   ],
   "source": [
    "print(data.head)"
   ]
  },
  {
   "cell_type": "code",
   "execution_count": 15,
   "id": "a25a9fb6-9555-4c28-92a4-48e123f6f415",
   "metadata": {},
   "outputs": [
    {
     "name": "stdout",
     "output_type": "stream",
     "text": [
      "Unnamed: 0    0\n",
      "TV            0\n",
      "Radio         0\n",
      "Newspaper     0\n",
      "Sales         0\n",
      "dtype: int64\n"
     ]
    }
   ],
   "source": [
    "print(data.isnull().sum())"
   ]
  },
  {
   "cell_type": "code",
   "execution_count": 17,
   "id": "038c3648-2c43-46a4-acb8-8326bda3b7ed",
   "metadata": {},
   "outputs": [],
   "source": [
    "data = data.dropna()"
   ]
  },
  {
   "cell_type": "code",
   "execution_count": 23,
   "id": "0ea50a9e-2a9b-454f-8527-b81ae94aae36",
   "metadata": {},
   "outputs": [],
   "source": [
    "label_encoder = LabelEncoder()\n",
    "data['TV'] = label_encoder.fit_transform(data['TV'])\n",
    "data['Radio'] = label_encoder.fit_transform(data['Radio'])"
   ]
  },
  {
   "cell_type": "code",
   "execution_count": 25,
   "id": "4fbd7a8c-5efc-4c77-9f35-7407d75d1768",
   "metadata": {},
   "outputs": [
    {
     "name": "stdout",
     "output_type": "stream",
     "text": [
      "<class 'pandas.core.frame.DataFrame'>\n",
      "RangeIndex: 200 entries, 0 to 199\n",
      "Data columns (total 5 columns):\n",
      " #   Column      Non-Null Count  Dtype  \n",
      "---  ------      --------------  -----  \n",
      " 0   Unnamed: 0  200 non-null    int64  \n",
      " 1   TV          200 non-null    int64  \n",
      " 2   Radio       200 non-null    int64  \n",
      " 3   Newspaper   200 non-null    float64\n",
      " 4   Sales       200 non-null    float64\n",
      "dtypes: float64(2), int64(3)\n",
      "memory usage: 7.9 KB\n",
      "None\n"
     ]
    }
   ],
   "source": [
    "print(data.info())"
   ]
  },
  {
   "cell_type": "code",
   "execution_count": 33,
   "id": "fecfe947-34cf-4d6a-8eee-35ce5bee6aae",
   "metadata": {},
   "outputs": [],
   "source": [
    "scaler = StandardScaler()\n",
    "data[['Newspaper']] = scaler.fit_transform(data[['Newspaper']])"
   ]
  },
  {
   "cell_type": "code",
   "execution_count": 35,
   "id": "68e71eaf-0f34-4f37-a5c9-6d1f5738eae2",
   "metadata": {},
   "outputs": [
    {
     "name": "stdout",
     "output_type": "stream",
     "text": [
      "<bound method NDFrame.head of      Unnamed: 0   TV  Radio  Newspaper     Sales\n",
      "0             1  153    131   1.778945  1.552053\n",
      "1             2   32    136   0.669579 -0.696046\n",
      "2             3   12    156   1.783549 -0.907406\n",
      "3             4   98    142   1.286405  0.860330\n",
      "4             5  112     41   1.281802 -0.215683\n",
      "..          ...  ...    ...        ...       ...\n",
      "195         196   28     18  -0.771217 -1.234053\n",
      "196         197   63     21  -1.033598 -0.830548\n",
      "197         198  111     35  -1.111852 -0.234898\n",
      "198         199  181    145   1.640850  2.205347\n",
      "199         200  154     34  -1.005979 -0.119610\n",
      "\n",
      "[200 rows x 5 columns]>\n"
     ]
    }
   ],
   "source": [
    "print(data.head)"
   ]
  },
  {
   "cell_type": "code",
   "execution_count": 37,
   "id": "3ad05aa8-05c9-4e93-a784-df4d6abc18a0",
   "metadata": {},
   "outputs": [],
   "source": [
    "X = data[['Newspaper', 'TV', 'Radio']]  # Features\n",
    "y = data['Sales'] "
   ]
  },
  {
   "cell_type": "code",
   "execution_count": 39,
   "id": "3e8d7657-8108-4032-8f76-0af3235c8a65",
   "metadata": {},
   "outputs": [
    {
     "name": "stdout",
     "output_type": "stream",
     "text": [
      "Model coefficients: [0.01293502 0.01344629 0.01093727]\n",
      "Intercept: -2.1682187857259665\n"
     ]
    }
   ],
   "source": [
    "# Split data into training and testing sets\n",
    "X_train, X_test, y_train, y_test = train_test_split(X, y, test_size=0.2, random_state=42)\n",
    "\n",
    "# Instantiate and train the model\n",
    "model = LinearRegression()\n",
    "model.fit(X_train, y_train)\n",
    "\n",
    "# Predictions\n",
    "y_pred = model.predict(X_test)\n",
    "\n",
    "# Display coefficients\n",
    "print(f\"Model coefficients: {model.coef_}\")\n",
    "print(f\"Intercept: {model.intercept_}\")\n"
   ]
  },
  {
   "cell_type": "code",
   "execution_count": 41,
   "id": "753b274b-50b9-4d50-913f-66129b74981d",
   "metadata": {},
   "outputs": [
    {
     "name": "stdout",
     "output_type": "stream",
     "text": [
      "Mean Squared Error (MSE): 0.11970281488735401\n",
      "R-squared (R²): 0.8972791312715285\n"
     ]
    },
    {
     "data": {
      "image/png": "[encoded data removed]",
      "text/plain": [
       "<Figure size 800x500 with 1 Axes>"
      ]
     },
     "metadata": {},
     "output_type": "display_data"
    }
   ],
   "source": [
    "# Evaluate the model\n",
    "mse = mean_squared_error(y_test, y_pred)\n",
    "r2 = r2_score(y_test, y_pred)\n",
    "\n",
    "print(f\"Mean Squared Error (MSE): {mse}\")\n",
    "print(f\"R-squared (R²): {r2}\")\n",
    "\n",
    "# Visualizing the prediction vs actual values\n",
    "plt.figure(figsize=(8, 5))\n",
    "plt.scatter(y_test, y_pred, color='blue')\n",
    "plt.plot([min(y_test), max(y_test)], [min(y_test), max(y_test)], color='red', lw=2)\n",
    "plt.title('Actual vs Predicted Sales')\n",
    "plt.xlabel('Actual Sales')\n",
    "plt.ylabel('Predicted Sales')\n",
    "plt.show()\n"
   ]
  },
  {
   "cell_type": "code",
   "execution_count": 47,
   "id": "6c8ca39e-c0cf-4b0b-b644-a220886a305d",
   "metadata": {},
   "outputs": [
    {
     "name": "stdout",
     "output_type": "stream",
     "text": [
      "Predicted Sales: -2.1682187857259665\n"
     ]
    }
   ],
   "source": [
    "import pandas as pd\n",
    "from sklearn.preprocessing import LabelEncoder, StandardScaler\n",
    "\n",
    "# Assuming the label encoder and scaler are already fitted\n",
    "label_encoder = LabelEncoder()\n",
    "scaler = StandardScaler()\n",
    "\n",
    "# Example for new data prediction\n",
    "new_data = pd.DataFrame({\n",
    "    'Newspaper': [5000],  # Example ad spend\n",
    "    'TV': ['Online'],  # Platform encoding (Online -> need encoding)\n",
    "    'Radio': ['Adults']  # Customer Segment encoding (Adults -> need encoding)\n",
    "})\n",
    "\n",
    "# Label encode categorical variables ('TV' and 'Radio')\n",
    "new_data['TV'] = label_encoder.fit_transform(new_data['TV'])  # Transform 'Online' to numerical value\n",
    "new_data['Radio'] = label_encoder.fit_transform(new_data['Radio'])  # Transform 'Adults' to numerical value\n",
    "\n",
    "# Scale the 'Newspaper' feature (if scaling was done earlier on the training data)\n",
    "new_data[['Newspaper']] = scaler.fit_transform(new_data[['Newspaper']])\n",
    "\n",
    "# Now, new_data is ready for prediction\n",
    "# Assuming 'model' is the trained machine learning model\n",
    "predicted_sales = model.predict(new_data)\n",
    "\n",
    "print(f\"Predicted Sales: {predicted_sales[0]}\")\n"
   ]
  },
  {
   "cell_type": "code",
   "execution_count": null,
   "id": "78dbba2b-ed1b-44e1-a808-9904e85a9116",
   "metadata": {},
   "outputs": [],
   "source": []
  }
 ],
 "metadata": {
  "kernelspec": {
   "display_name": "Python [conda env:base] *",
   "language": "python",
   "name": "conda-base-py"
  },
  "language_info": {
   "codemirror_mode": {
    "name": "ipython",
    "version": 3
   },
   "file_extension": ".py",
   "mimetype": "text/x-python",
   "name": "python",
   "nbconvert_exporter": "python",
   "pygments_lexer": "ipython3",
   "version": "3.12.7"
  }
 },
 "nbformat": 4,
 "nbformat_minor": 5
}
